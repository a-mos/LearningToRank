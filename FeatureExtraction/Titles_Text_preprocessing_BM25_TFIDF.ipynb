{
 "cells": [
  {
   "cell_type": "code",
   "execution_count": 1,
   "metadata": {},
   "outputs": [],
   "source": [
    "from joblib import Parallel, delayed\n",
    "from pyaspeller import YandexSpeller\n",
    "from pymystem3 import Mystem\n",
    "import os\n",
    "import pandas as pd\n",
    "from tqdm import tqdm\n",
    "speller = YandexSpeller()\n",
    "mystem = Mystem(grammar_info=False)"
   ]
  },
  {
   "cell_type": "code",
   "execution_count": 58,
   "metadata": {},
   "outputs": [],
   "source": [
    "TITLES_DIR = './DOCS_TITLES/'\n",
    "\n",
    "def proc(line):\n",
    "    t = line[:-1].strip().lower().replace(u'ё', u'е').split('\\t')\n",
    "    doc_id = t[0]\n",
    "    if len(t) > 1:\n",
    "        title = t[1]\n",
    "        fixed = speller.spelled(title)\n",
    "\n",
    "        spell_res = fixed + '\\n'\n",
    "\n",
    "        lemmas = mystem.lemmatize(fixed)\n",
    "        stemmed = ''.join(lemmas)\n",
    "\n",
    "        title_res = stemmed + '\\n'\n",
    "        \n",
    "        with open(os.path.join(TITLES_DIR, doc_id + '.txt'), 'w') as save:\n",
    "            save.write(spell_res)\n",
    "            save.write(title_res)\n",
    "    else:\n",
    "        with open(os.path.join(TITLES_DIR, str(doc_id) + '.txt'), 'w') as save:\n",
    "            save.write('')\n",
    "            save.write('')"
   ]
  },
  {
   "cell_type": "code",
   "execution_count": 3,
   "metadata": {},
   "outputs": [
    {
     "name": "stderr",
     "output_type": "stream",
     "text": [
      "100%|██████████| 582167/582167 [9:03:25<00:00, 17.85it/s]  \n"
     ]
    }
   ],
   "source": [
    "from pymystem3 import Mystem\n",
    "from tqdm import tqdm\n",
    "\n",
    "docs_filename = '/mnt/HDD/FINAL_TS/docs.tsv'\n",
    "spell_titles = './DOCS/Spell_titles.tsv'\n",
    "spell_stem_titles = './DOCS/Spell_stem_titles.tsv'\n",
    "\n",
    "docs_num = 582167\n",
    "\n",
    "with open(docs_filename, 'r') as docs_file:\n",
    "    Parallel(n_jobs=-1)(delayed(proc)(line) for line in tqdm(docs_file, total=docs_num))"
   ]
  },
  {
   "cell_type": "markdown",
   "metadata": {},
   "source": [
    "### Read"
   ]
  },
  {
   "cell_type": "code",
   "execution_count": 4,
   "metadata": {},
   "outputs": [],
   "source": [
    "import os\n",
    "import tqdm\n",
    "import pandas as pd"
   ]
  },
  {
   "cell_type": "code",
   "execution_count": 65,
   "metadata": {},
   "outputs": [],
   "source": [
    "df_speller = pd.DataFrame(columns=['Id', 'Title'])\n",
    "df_speller_stemmer = pd.DataFrame(columns=['Id', 'Title'])"
   ]
  },
  {
   "cell_type": "code",
   "execution_count": 66,
   "metadata": {},
   "outputs": [],
   "source": [
    "lst_speller = []\n",
    "lst_speller_stemmer = []"
   ]
  },
  {
   "cell_type": "code",
   "execution_count": 67,
   "metadata": {},
   "outputs": [
    {
     "name": "stderr",
     "output_type": "stream",
     "text": [
      "100%|██████████| 582167/582167 [01:23<00:00, 6997.07it/s]\n"
     ]
    }
   ],
   "source": [
    "for doc in tqdm.tqdm(os.listdir('./DOCS_TITLES/')):\n",
    "    doc_id = doc.split('.')[0]\n",
    "    with open(os.path.join('./DOCS_TITLES', doc), 'r') as f:\n",
    "        title_speller = f.readline()\n",
    "        title_speller_stemmer = f.readline()\n",
    "        \n",
    "        lst_speller.append([doc_id, title_speller])\n",
    "        lst_speller_stemmer.append([doc_id, title_speller_stemmer])"
   ]
  },
  {
   "cell_type": "code",
   "execution_count": 68,
   "metadata": {},
   "outputs": [],
   "source": [
    "df_speller = pd.DataFrame(lst_speller, columns =['Id', 'Title'])"
   ]
  },
  {
   "cell_type": "code",
   "execution_count": 69,
   "metadata": {},
   "outputs": [],
   "source": [
    "df_speller_stemmer = pd.DataFrame(lst_speller_stemmer, columns =['Id', 'Title'])"
   ]
  },
  {
   "cell_type": "code",
   "execution_count": 70,
   "metadata": {},
   "outputs": [],
   "source": [
    "df_speller_stemmer.to_csv('titles_speller_stemmer.tsv',sep='\\t',index=False,header=False)"
   ]
  },
  {
   "cell_type": "code",
   "execution_count": 71,
   "metadata": {},
   "outputs": [],
   "source": [
    "df_speller.to_csv('titles_speller.tsv',sep='\\t',index=False,header=False)"
   ]
  },
  {
   "cell_type": "markdown",
   "metadata": {},
   "source": [
    "### Queries"
   ]
  },
  {
   "cell_type": "code",
   "execution_count": 60,
   "metadata": {},
   "outputs": [],
   "source": [
    "queries = pd.read_csv('./Data/queries.tsv', header=None, sep='\\t')"
   ]
  },
  {
   "cell_type": "code",
   "execution_count": 74,
   "metadata": {},
   "outputs": [
    {
     "name": "stderr",
     "output_type": "stream",
     "text": [
      "/home/andrey/anaconda3/envs/matcher/lib/python3.7/site-packages/ipykernel_launcher.py:7: TqdmDeprecationWarning: This function will be removed in tqdm==5.0.0\n",
      "Please use `tqdm.notebook.tqdm` instead of `tqdm.tqdm_notebook`\n",
      "  import sys\n"
     ]
    },
    {
     "data": {
      "application/vnd.jupyter.widget-view+json": {
       "model_id": "",
       "version_major": 2,
       "version_minor": 0
      },
      "text/plain": [
       "0it [00:00, ?it/s]"
      ]
     },
     "metadata": {},
     "output_type": "display_data"
    }
   ],
   "source": [
    "query_speller = []\n",
    "query_speller_stemmer = []\n",
    "\n",
    "for row in tqdm.tqdm_notebook(queries.iterrows()):\n",
    "    queiry_id = row[0]\n",
    "    queiry = row[1][1].strip().lower().replace(u'ё', u'е')\n",
    "    \n",
    "    spelled = speller.spelled(queiry)\n",
    "    lemmas = mystem.lemmatize(spelled)\n",
    "    stemmed = ''.join(lemmas)\n",
    "        \n",
    "    query_speller.append([queiry_id, spelled])\n",
    "    query_speller_stemmer.append([queiry_id, stemmed])"
   ]
  },
  {
   "cell_type": "code",
   "execution_count": 184,
   "metadata": {},
   "outputs": [
    {
     "data": {
      "text/plain": [
       "[5252, 'сколько надо ездить со знак начинающий водитель\\n']"
      ]
     },
     "execution_count": 184,
     "metadata": {},
     "output_type": "execute_result"
    }
   ],
   "source": [
    "query_speller_stemmer[5252]"
   ]
  },
  {
   "cell_type": "code",
   "execution_count": 77,
   "metadata": {},
   "outputs": [],
   "source": [
    "df_query_speller = pd.DataFrame(query_speller, columns =['Id', 'Query'])\n",
    "df_query_speller_stemmer = pd.DataFrame(query_speller_stemmer, columns =['Id', 'Query'])"
   ]
  },
  {
   "cell_type": "code",
   "execution_count": 185,
   "metadata": {},
   "outputs": [
    {
     "data": {
      "text/html": [
       "<div>\n",
       "<style scoped>\n",
       "    .dataframe tbody tr th:only-of-type {\n",
       "        vertical-align: middle;\n",
       "    }\n",
       "\n",
       "    .dataframe tbody tr th {\n",
       "        vertical-align: top;\n",
       "    }\n",
       "\n",
       "    .dataframe thead th {\n",
       "        text-align: right;\n",
       "    }\n",
       "</style>\n",
       "<table border=\"1\" class=\"dataframe\">\n",
       "  <thead>\n",
       "    <tr style=\"text-align: right;\">\n",
       "      <th></th>\n",
       "      <th>Id</th>\n",
       "      <th>Query</th>\n",
       "    </tr>\n",
       "  </thead>\n",
       "  <tbody>\n",
       "    <tr>\n",
       "      <th>0</th>\n",
       "      <td>0</td>\n",
       "      <td>13 причин почему</td>\n",
       "    </tr>\n",
       "    <tr>\n",
       "      <th>1</th>\n",
       "      <td>1</td>\n",
       "      <td>1 положительный и 1 отрицательный могут ли</td>\n",
       "    </tr>\n",
       "    <tr>\n",
       "      <th>2</th>\n",
       "      <td>2</td>\n",
       "      <td>2016 действует ли зао рождественская мануфактура</td>\n",
       "    </tr>\n",
       "    <tr>\n",
       "      <th>3</th>\n",
       "      <td>3</td>\n",
       "      <td>1 месяц после операции на кишечнике диета что ...</td>\n",
       "    </tr>\n",
       "    <tr>\n",
       "      <th>4</th>\n",
       "      <td>4</td>\n",
       "      <td>2 правды 1 ложь что можно придумать</td>\n",
       "    </tr>\n",
       "    <tr>\n",
       "      <th>...</th>\n",
       "      <td>...</td>\n",
       "      <td>...</td>\n",
       "    </tr>\n",
       "    <tr>\n",
       "      <th>6306</th>\n",
       "      <td>6306</td>\n",
       "      <td>является ли тойота харриер внедорожником</td>\n",
       "    </tr>\n",
       "    <tr>\n",
       "      <th>6307</th>\n",
       "      <td>6307</td>\n",
       "      <td>як можно очистить крейду</td>\n",
       "    </tr>\n",
       "    <tr>\n",
       "      <th>6308</th>\n",
       "      <td>6308</td>\n",
       "      <td>являются ли реактивы медицинскими изделиями</td>\n",
       "    </tr>\n",
       "    <tr>\n",
       "      <th>6309</th>\n",
       "      <td>6309</td>\n",
       "      <td>являются ли словообразовательными парами слова...</td>\n",
       "    </tr>\n",
       "    <tr>\n",
       "      <th>6310</th>\n",
       "      <td>6310</td>\n",
       "      <td>является ли ооо субъектом малого предпринимате...</td>\n",
       "    </tr>\n",
       "  </tbody>\n",
       "</table>\n",
       "<p>6311 rows × 2 columns</p>\n",
       "</div>"
      ],
      "text/plain": [
       "        Id                                              Query\n",
       "0        0                                   13 причин почему\n",
       "1        1         1 положительный и 1 отрицательный могут ли\n",
       "2        2   2016 действует ли зао рождественская мануфактура\n",
       "3        3  1 месяц после операции на кишечнике диета что ...\n",
       "4        4                2 правды 1 ложь что можно придумать\n",
       "...    ...                                                ...\n",
       "6306  6306           является ли тойота харриер внедорожником\n",
       "6307  6307                           як можно очистить крейду\n",
       "6308  6308        являются ли реактивы медицинскими изделиями\n",
       "6309  6309  являются ли словообразовательными парами слова...\n",
       "6310  6310  является ли ооо субъектом малого предпринимате...\n",
       "\n",
       "[6311 rows x 2 columns]"
      ]
     },
     "execution_count": 185,
     "metadata": {},
     "output_type": "execute_result"
    }
   ],
   "source": [
    "df_query_speller"
   ]
  },
  {
   "cell_type": "code",
   "execution_count": 83,
   "metadata": {},
   "outputs": [],
   "source": [
    "df_query_speller.to_csv('query_speller.tsv',sep='\\t',index=False,header=False)"
   ]
  },
  {
   "cell_type": "code",
   "execution_count": 80,
   "metadata": {},
   "outputs": [],
   "source": [
    "df_query_speller_stemmer['Query'] = df_query_speller_stemmer['Query'].apply(lambda x: x.strip())"
   ]
  },
  {
   "cell_type": "code",
   "execution_count": 82,
   "metadata": {},
   "outputs": [],
   "source": [
    "df_query_speller_stemmer.to_csv('query_speller_stemmer.tsv',sep='\\t',index=False,header=False)"
   ]
  },
  {
   "cell_type": "markdown",
   "metadata": {},
   "source": [
    "### BM25"
   ]
  },
  {
   "cell_type": "code",
   "execution_count": 132,
   "metadata": {},
   "outputs": [],
   "source": [
    "titles = pd.read_csv('./titles_speller.tsv', sep='\\t', header=None)\n",
    "titles.columns=['Id', 'Title']"
   ]
  },
  {
   "cell_type": "code",
   "execution_count": 134,
   "metadata": {},
   "outputs": [
    {
     "data": {
      "text/html": [
       "<div>\n",
       "<style scoped>\n",
       "    .dataframe tbody tr th:only-of-type {\n",
       "        vertical-align: middle;\n",
       "    }\n",
       "\n",
       "    .dataframe tbody tr th {\n",
       "        vertical-align: top;\n",
       "    }\n",
       "\n",
       "    .dataframe thead th {\n",
       "        text-align: right;\n",
       "    }\n",
       "</style>\n",
       "<table border=\"1\" class=\"dataframe\">\n",
       "  <thead>\n",
       "    <tr style=\"text-align: right;\">\n",
       "      <th></th>\n",
       "      <th>Id</th>\n",
       "      <th>Title</th>\n",
       "    </tr>\n",
       "  </thead>\n",
       "  <tbody>\n",
       "    <tr>\n",
       "      <th>0</th>\n",
       "      <td>334761</td>\n",
       "      <td>ответы mail ru кто родился 4 июля\\n</td>\n",
       "    </tr>\n",
       "    <tr>\n",
       "      <th>1</th>\n",
       "      <td>56349</td>\n",
       "      <td>наращивание ногтей акрилом описание достоинств...</td>\n",
       "    </tr>\n",
       "    <tr>\n",
       "      <th>2</th>\n",
       "      <td>551990</td>\n",
       "      <td>как узнать есть ли что то в собственности zaza...</td>\n",
       "    </tr>\n",
       "    <tr>\n",
       "      <th>3</th>\n",
       "      <td>224905</td>\n",
       "      <td>relp криминалистическое исследование речевого ...</td>\n",
       "    </tr>\n",
       "    <tr>\n",
       "      <th>4</th>\n",
       "      <td>389288</td>\n",
       "      <td>николай козлов синтон психология тренинги розе...</td>\n",
       "    </tr>\n",
       "    <tr>\n",
       "      <th>...</th>\n",
       "      <td>...</td>\n",
       "      <td>...</td>\n",
       "    </tr>\n",
       "    <tr>\n",
       "      <th>582162</th>\n",
       "      <td>458053</td>\n",
       "      <td>голод сергей львович москвин голод книга подго...</td>\n",
       "    </tr>\n",
       "    <tr>\n",
       "      <th>582163</th>\n",
       "      <td>474067</td>\n",
       "      <td>как сделать фотографию снимок с экрана монитор...</td>\n",
       "    </tr>\n",
       "    <tr>\n",
       "      <th>582164</th>\n",
       "      <td>179069</td>\n",
       "      <td>селективная парфюмерия нишевая парфюмерия стат...</td>\n",
       "    </tr>\n",
       "    <tr>\n",
       "      <th>582165</th>\n",
       "      <td>539701</td>\n",
       "      <td>10 установленных плагинов wordpress в блоге но...</td>\n",
       "    </tr>\n",
       "    <tr>\n",
       "      <th>582166</th>\n",
       "      <td>480577</td>\n",
       "      <td>сто великих мифов и легенд\\n</td>\n",
       "    </tr>\n",
       "  </tbody>\n",
       "</table>\n",
       "<p>582167 rows × 2 columns</p>\n",
       "</div>"
      ],
      "text/plain": [
       "            Id                                              Title\n",
       "0       334761                ответы mail ru кто родился 4 июля\\n\n",
       "1        56349  наращивание ногтей акрилом описание достоинств...\n",
       "2       551990  как узнать есть ли что то в собственности zaza...\n",
       "3       224905  relp криминалистическое исследование речевого ...\n",
       "4       389288  николай козлов синтон психология тренинги розе...\n",
       "...        ...                                                ...\n",
       "582162  458053  голод сергей львович москвин голод книга подго...\n",
       "582163  474067  как сделать фотографию снимок с экрана монитор...\n",
       "582164  179069  селективная парфюмерия нишевая парфюмерия стат...\n",
       "582165  539701  10 установленных плагинов wordpress в блоге но...\n",
       "582166  480577                       сто великих мифов и легенд\\n\n",
       "\n",
       "[582167 rows x 2 columns]"
      ]
     },
     "execution_count": 134,
     "metadata": {},
     "output_type": "execute_result"
    }
   ],
   "source": [
    "titles"
   ]
  },
  {
   "cell_type": "code",
   "execution_count": 135,
   "metadata": {},
   "outputs": [],
   "source": [
    "queries = pd.read_csv('./query_speller.tsv', sep='\\t', header=None)\n",
    "queries.columns = ['Id', 'Query']"
   ]
  },
  {
   "cell_type": "code",
   "execution_count": 137,
   "metadata": {},
   "outputs": [
    {
     "data": {
      "text/html": [
       "<div>\n",
       "<style scoped>\n",
       "    .dataframe tbody tr th:only-of-type {\n",
       "        vertical-align: middle;\n",
       "    }\n",
       "\n",
       "    .dataframe tbody tr th {\n",
       "        vertical-align: top;\n",
       "    }\n",
       "\n",
       "    .dataframe thead th {\n",
       "        text-align: right;\n",
       "    }\n",
       "</style>\n",
       "<table border=\"1\" class=\"dataframe\">\n",
       "  <thead>\n",
       "    <tr style=\"text-align: right;\">\n",
       "      <th></th>\n",
       "      <th>Id</th>\n",
       "      <th>Query</th>\n",
       "    </tr>\n",
       "  </thead>\n",
       "  <tbody>\n",
       "    <tr>\n",
       "      <th>0</th>\n",
       "      <td>0</td>\n",
       "      <td>13 причин почему</td>\n",
       "    </tr>\n",
       "    <tr>\n",
       "      <th>1</th>\n",
       "      <td>1</td>\n",
       "      <td>1 положительный и 1 отрицательный могут ли</td>\n",
       "    </tr>\n",
       "    <tr>\n",
       "      <th>2</th>\n",
       "      <td>2</td>\n",
       "      <td>2016 действует ли зао рождественская мануфактура</td>\n",
       "    </tr>\n",
       "    <tr>\n",
       "      <th>3</th>\n",
       "      <td>3</td>\n",
       "      <td>1 месяц после операции на кишечнике диета что ...</td>\n",
       "    </tr>\n",
       "    <tr>\n",
       "      <th>4</th>\n",
       "      <td>4</td>\n",
       "      <td>2 правды 1 ложь что можно придумать</td>\n",
       "    </tr>\n",
       "    <tr>\n",
       "      <th>...</th>\n",
       "      <td>...</td>\n",
       "      <td>...</td>\n",
       "    </tr>\n",
       "    <tr>\n",
       "      <th>6306</th>\n",
       "      <td>6306</td>\n",
       "      <td>является ли тойота харриер внедорожником</td>\n",
       "    </tr>\n",
       "    <tr>\n",
       "      <th>6307</th>\n",
       "      <td>6307</td>\n",
       "      <td>як можно очистить крейду</td>\n",
       "    </tr>\n",
       "    <tr>\n",
       "      <th>6308</th>\n",
       "      <td>6308</td>\n",
       "      <td>являются ли реактивы медицинскими изделиями</td>\n",
       "    </tr>\n",
       "    <tr>\n",
       "      <th>6309</th>\n",
       "      <td>6309</td>\n",
       "      <td>являются ли словообразовательными парами слова...</td>\n",
       "    </tr>\n",
       "    <tr>\n",
       "      <th>6310</th>\n",
       "      <td>6310</td>\n",
       "      <td>является ли ооо субъектом малого предпринимате...</td>\n",
       "    </tr>\n",
       "  </tbody>\n",
       "</table>\n",
       "<p>6311 rows × 2 columns</p>\n",
       "</div>"
      ],
      "text/plain": [
       "        Id                                              Query\n",
       "0        0                                   13 причин почему\n",
       "1        1         1 положительный и 1 отрицательный могут ли\n",
       "2        2   2016 действует ли зао рождественская мануфактура\n",
       "3        3  1 месяц после операции на кишечнике диета что ...\n",
       "4        4                2 правды 1 ложь что можно придумать\n",
       "...    ...                                                ...\n",
       "6306  6306           является ли тойота харриер внедорожником\n",
       "6307  6307                           як можно очистить крейду\n",
       "6308  6308        являются ли реактивы медицинскими изделиями\n",
       "6309  6309  являются ли словообразовательными парами слова...\n",
       "6310  6310  является ли ооо субъектом малого предпринимате...\n",
       "\n",
       "[6311 rows x 2 columns]"
      ]
     },
     "execution_count": 137,
     "metadata": {},
     "output_type": "execute_result"
    }
   ],
   "source": [
    "queries"
   ]
  },
  {
   "cell_type": "code",
   "execution_count": 138,
   "metadata": {},
   "outputs": [],
   "source": [
    "queries['Id'] = queries['Id'].apply(lambda x: int(x))"
   ]
  },
  {
   "cell_type": "code",
   "execution_count": 139,
   "metadata": {},
   "outputs": [
    {
     "data": {
      "text/plain": [
       "0                       ответы mail ru кто родился 4 июля\\n\n",
       "1         наращивание ногтей акрилом описание достоинств...\n",
       "2         как узнать есть ли что то в собственности zaza...\n",
       "3         relp криминалистическое исследование речевого ...\n",
       "4         николай козлов синтон психология тренинги розе...\n",
       "                                ...                        \n",
       "582162    голод сергей львович москвин голод книга подго...\n",
       "582163    как сделать фотографию снимок с экрана монитор...\n",
       "582164    селективная парфюмерия нишевая парфюмерия стат...\n",
       "582165    10 установленных плагинов wordpress в блоге но...\n",
       "582166                         сто великих мифов и легенд\\n\n",
       "Name: Title, Length: 582167, dtype: object"
      ]
     },
     "execution_count": 139,
     "metadata": {},
     "output_type": "execute_result"
    }
   ],
   "source": [
    "titles['Title']"
   ]
  },
  {
   "cell_type": "code",
   "execution_count": 140,
   "metadata": {},
   "outputs": [],
   "source": [
    "titles['Title'] = titles['Title'].astype('str').apply(lambda x: x.strip())\n",
    "titles['Id'] = titles['Id'].apply(lambda x: int(x))\n",
    "titles = titles.sort_values(by=['Id'])"
   ]
  },
  {
   "cell_type": "code",
   "execution_count": 141,
   "metadata": {},
   "outputs": [],
   "source": [
    "from rank_bm25 import BM25Okapi, BM25L, BM25Plus"
   ]
  },
  {
   "cell_type": "code",
   "execution_count": 142,
   "metadata": {},
   "outputs": [],
   "source": [
    "corpus = list(titles['Title'])\n",
    "tokenized_corpus = [doc.split(\" \") for doc in corpus]\n",
    "\n",
    "bm25_Okapi = BM25Okapi(tokenized_corpus)\n",
    "bm25_L = BM25L(tokenized_corpus)\n",
    "bm25_Plus = BM25Plus(tokenized_corpus)"
   ]
  },
  {
   "cell_type": "code",
   "execution_count": 159,
   "metadata": {},
   "outputs": [],
   "source": [
    "sample_df = pd.read_csv('./Data/sample.csv', sep=',')\n",
    "sample_df.columns = ['query_id', 'url_id']"
   ]
  },
  {
   "cell_type": "code",
   "execution_count": 160,
   "metadata": {},
   "outputs": [],
   "source": [
    "marks_df = pd.read_csv('./Data/train.marks.tsv', sep='\\t', header=None)\n",
    "marks_df.columns = ['query_id', 'url_id', 'mark']\n",
    "marks_df = marks_df.drop(columns=['mark'])\n",
    "\n",
    "sample_df = sample_df.append(marks_df)"
   ]
  },
  {
   "cell_type": "code",
   "execution_count": 161,
   "metadata": {},
   "outputs": [],
   "source": [
    "sample_df['BM25Okapi'] = None\n",
    "sample_df['BM25L'] = None\n",
    "sample_df['BM25Plus'] = None"
   ]
  },
  {
   "cell_type": "code",
   "execution_count": 162,
   "metadata": {},
   "outputs": [
    {
     "data": {
      "text/html": [
       "<div>\n",
       "<style scoped>\n",
       "    .dataframe tbody tr th:only-of-type {\n",
       "        vertical-align: middle;\n",
       "    }\n",
       "\n",
       "    .dataframe tbody tr th {\n",
       "        vertical-align: top;\n",
       "    }\n",
       "\n",
       "    .dataframe thead th {\n",
       "        text-align: right;\n",
       "    }\n",
       "</style>\n",
       "<table border=\"1\" class=\"dataframe\">\n",
       "  <thead>\n",
       "    <tr style=\"text-align: right;\">\n",
       "      <th></th>\n",
       "      <th>query_id</th>\n",
       "      <th>url_id</th>\n",
       "      <th>BM25Okapi</th>\n",
       "      <th>BM25L</th>\n",
       "      <th>BM25Plus</th>\n",
       "    </tr>\n",
       "  </thead>\n",
       "  <tbody>\n",
       "    <tr>\n",
       "      <th>0</th>\n",
       "      <td>0</td>\n",
       "      <td>340485</td>\n",
       "      <td>None</td>\n",
       "      <td>None</td>\n",
       "      <td>None</td>\n",
       "    </tr>\n",
       "    <tr>\n",
       "      <th>1</th>\n",
       "      <td>0</td>\n",
       "      <td>68106</td>\n",
       "      <td>None</td>\n",
       "      <td>None</td>\n",
       "      <td>None</td>\n",
       "    </tr>\n",
       "    <tr>\n",
       "      <th>2</th>\n",
       "      <td>0</td>\n",
       "      <td>237314</td>\n",
       "      <td>None</td>\n",
       "      <td>None</td>\n",
       "      <td>None</td>\n",
       "    </tr>\n",
       "    <tr>\n",
       "      <th>3</th>\n",
       "      <td>0</td>\n",
       "      <td>203791</td>\n",
       "      <td>None</td>\n",
       "      <td>None</td>\n",
       "      <td>None</td>\n",
       "    </tr>\n",
       "    <tr>\n",
       "      <th>4</th>\n",
       "      <td>0</td>\n",
       "      <td>53265</td>\n",
       "      <td>None</td>\n",
       "      <td>None</td>\n",
       "      <td>None</td>\n",
       "    </tr>\n",
       "    <tr>\n",
       "      <th>...</th>\n",
       "      <td>...</td>\n",
       "      <td>...</td>\n",
       "      <td>...</td>\n",
       "      <td>...</td>\n",
       "      <td>...</td>\n",
       "    </tr>\n",
       "    <tr>\n",
       "      <th>202074</th>\n",
       "      <td>6305</td>\n",
       "      <td>63981</td>\n",
       "      <td>None</td>\n",
       "      <td>None</td>\n",
       "      <td>None</td>\n",
       "    </tr>\n",
       "    <tr>\n",
       "      <th>202075</th>\n",
       "      <td>6305</td>\n",
       "      <td>354802</td>\n",
       "      <td>None</td>\n",
       "      <td>None</td>\n",
       "      <td>None</td>\n",
       "    </tr>\n",
       "    <tr>\n",
       "      <th>202076</th>\n",
       "      <td>6305</td>\n",
       "      <td>275960</td>\n",
       "      <td>None</td>\n",
       "      <td>None</td>\n",
       "      <td>None</td>\n",
       "    </tr>\n",
       "    <tr>\n",
       "      <th>202077</th>\n",
       "      <td>6305</td>\n",
       "      <td>338427</td>\n",
       "      <td>None</td>\n",
       "      <td>None</td>\n",
       "      <td>None</td>\n",
       "    </tr>\n",
       "    <tr>\n",
       "      <th>202078</th>\n",
       "      <td>6305</td>\n",
       "      <td>511</td>\n",
       "      <td>None</td>\n",
       "      <td>None</td>\n",
       "      <td>None</td>\n",
       "    </tr>\n",
       "  </tbody>\n",
       "</table>\n",
       "<p>606050 rows × 5 columns</p>\n",
       "</div>"
      ],
      "text/plain": [
       "        query_id  url_id BM25Okapi BM25L BM25Plus\n",
       "0              0  340485      None  None     None\n",
       "1              0   68106      None  None     None\n",
       "2              0  237314      None  None     None\n",
       "3              0  203791      None  None     None\n",
       "4              0   53265      None  None     None\n",
       "...          ...     ...       ...   ...      ...\n",
       "202074      6305   63981      None  None     None\n",
       "202075      6305  354802      None  None     None\n",
       "202076      6305  275960      None  None     None\n",
       "202077      6305  338427      None  None     None\n",
       "202078      6305     511      None  None     None\n",
       "\n",
       "[606050 rows x 5 columns]"
      ]
     },
     "execution_count": 162,
     "metadata": {},
     "output_type": "execute_result"
    }
   ],
   "source": [
    "sample_df"
   ]
  },
  {
   "cell_type": "code",
   "execution_count": 163,
   "metadata": {},
   "outputs": [
    {
     "data": {
      "text/plain": [
       "582166"
      ]
     },
     "execution_count": 163,
     "metadata": {},
     "output_type": "execute_result"
    }
   ],
   "source": [
    "max(sample_df['url_id'])"
   ]
  },
  {
   "cell_type": "code",
   "execution_count": 164,
   "metadata": {},
   "outputs": [
    {
     "data": {
      "text/html": [
       "<div>\n",
       "<style scoped>\n",
       "    .dataframe tbody tr th:only-of-type {\n",
       "        vertical-align: middle;\n",
       "    }\n",
       "\n",
       "    .dataframe tbody tr th {\n",
       "        vertical-align: top;\n",
       "    }\n",
       "\n",
       "    .dataframe thead th {\n",
       "        text-align: right;\n",
       "    }\n",
       "</style>\n",
       "<table border=\"1\" class=\"dataframe\">\n",
       "  <thead>\n",
       "    <tr style=\"text-align: right;\">\n",
       "      <th></th>\n",
       "      <th>Id</th>\n",
       "      <th>Query</th>\n",
       "    </tr>\n",
       "  </thead>\n",
       "  <tbody>\n",
       "    <tr>\n",
       "      <th>0</th>\n",
       "      <td>0</td>\n",
       "      <td>13 причин почему</td>\n",
       "    </tr>\n",
       "    <tr>\n",
       "      <th>1</th>\n",
       "      <td>1</td>\n",
       "      <td>1 положительный и 1 отрицательный могут ли</td>\n",
       "    </tr>\n",
       "    <tr>\n",
       "      <th>2</th>\n",
       "      <td>2</td>\n",
       "      <td>2016 действует ли зао рождественская мануфактура</td>\n",
       "    </tr>\n",
       "    <tr>\n",
       "      <th>3</th>\n",
       "      <td>3</td>\n",
       "      <td>1 месяц после операции на кишечнике диета что ...</td>\n",
       "    </tr>\n",
       "    <tr>\n",
       "      <th>4</th>\n",
       "      <td>4</td>\n",
       "      <td>2 правды 1 ложь что можно придумать</td>\n",
       "    </tr>\n",
       "    <tr>\n",
       "      <th>...</th>\n",
       "      <td>...</td>\n",
       "      <td>...</td>\n",
       "    </tr>\n",
       "    <tr>\n",
       "      <th>6306</th>\n",
       "      <td>6306</td>\n",
       "      <td>является ли тойота харриер внедорожником</td>\n",
       "    </tr>\n",
       "    <tr>\n",
       "      <th>6307</th>\n",
       "      <td>6307</td>\n",
       "      <td>як можно очистить крейду</td>\n",
       "    </tr>\n",
       "    <tr>\n",
       "      <th>6308</th>\n",
       "      <td>6308</td>\n",
       "      <td>являются ли реактивы медицинскими изделиями</td>\n",
       "    </tr>\n",
       "    <tr>\n",
       "      <th>6309</th>\n",
       "      <td>6309</td>\n",
       "      <td>являются ли словообразовательными парами слова...</td>\n",
       "    </tr>\n",
       "    <tr>\n",
       "      <th>6310</th>\n",
       "      <td>6310</td>\n",
       "      <td>является ли ооо субъектом малого предпринимате...</td>\n",
       "    </tr>\n",
       "  </tbody>\n",
       "</table>\n",
       "<p>6311 rows × 2 columns</p>\n",
       "</div>"
      ],
      "text/plain": [
       "        Id                                              Query\n",
       "0        0                                   13 причин почему\n",
       "1        1         1 положительный и 1 отрицательный могут ли\n",
       "2        2   2016 действует ли зао рождественская мануфактура\n",
       "3        3  1 месяц после операции на кишечнике диета что ...\n",
       "4        4                2 правды 1 ложь что можно придумать\n",
       "...    ...                                                ...\n",
       "6306  6306           является ли тойота харриер внедорожником\n",
       "6307  6307                           як можно очистить крейду\n",
       "6308  6308        являются ли реактивы медицинскими изделиями\n",
       "6309  6309  являются ли словообразовательными парами слова...\n",
       "6310  6310  является ли ооо субъектом малого предпринимате...\n",
       "\n",
       "[6311 rows x 2 columns]"
      ]
     },
     "execution_count": 164,
     "metadata": {},
     "output_type": "execute_result"
    }
   ],
   "source": [
    "queries"
   ]
  },
  {
   "cell_type": "code",
   "execution_count": 165,
   "metadata": {},
   "outputs": [
    {
     "name": "stderr",
     "output_type": "stream",
     "text": [
      "/home/andrey/anaconda3/envs/matcher/lib/python3.7/site-packages/ipykernel_launcher.py:1: TqdmDeprecationWarning: This function will be removed in tqdm==5.0.0\n",
      "Please use `tqdm.notebook.tqdm` instead of `tqdm.tqdm_notebook`\n",
      "  \"\"\"Entry point for launching an IPython kernel.\n"
     ]
    },
    {
     "data": {
      "application/vnd.jupyter.widget-view+json": {
       "model_id": "5443d54332b944f6b2ea6e8228af2035",
       "version_major": 2,
       "version_minor": 0
      },
      "text/plain": [
       "  0%|          | 0/6311 [00:00<?, ?it/s]"
      ]
     },
     "metadata": {},
     "output_type": "display_data"
    }
   ],
   "source": [
    "for query in tqdm.tqdm_notebook(set(sample_df['query_id'])):\n",
    "    docs_id = list(sample_df[sample_df['query_id'] == query]['url_id'])\n",
    "    q = queries[queries['Id'] == query]['Query'][query]\n",
    "    tokenized_query = q.split(\" \")\n",
    "\n",
    "    bm25_1 = bm25_Okapi.get_batch_scores(tokenized_query, docs_id)\n",
    "    bm25_2 = bm25_L.get_batch_scores(tokenized_query, docs_id)\n",
    "    bm25_3 = bm25_Plus.get_batch_scores(tokenized_query, docs_id)\n",
    "    \n",
    "    sample_df.loc[sample_df['query_id'] == query, 'BM25Okapi'] = bm25_1\n",
    "    sample_df.loc[sample_df['query_id'] == query, 'BM25L'] = bm25_2\n",
    "    sample_df.loc[sample_df['query_id'] == query, 'BM25Plus'] = bm25_3"
   ]
  },
  {
   "cell_type": "code",
   "execution_count": 166,
   "metadata": {},
   "outputs": [],
   "source": [
    "sample_df.to_csv('./BM25/BM25_Spelled.tsv',sep='\\t',index=False)"
   ]
  },
  {
   "cell_type": "code",
   "execution_count": 167,
   "metadata": {},
   "outputs": [],
   "source": [
    "### ТОЖЕ САМОЕ, НО С СТЕММЕРОМ ###"
   ]
  },
  {
   "cell_type": "code",
   "execution_count": 168,
   "metadata": {},
   "outputs": [],
   "source": [
    "titles = pd.read_csv('./titles_speller_stemmer.tsv', sep='\\t', header=None)\n",
    "titles.columns=['Id', 'Title']\n",
    "\n",
    "queries = pd.read_csv('./query_speller_stemmer.tsv', sep='\\t', header=None)\n",
    "queries.columns = ['Id', 'Query']\n",
    "queries['Id'] = queries['Id'].apply(lambda x: int(x))\n",
    "\n",
    "titles['Title'] = titles['Title'].astype('str').apply(lambda x: x.strip())\n",
    "titles['Id'] = titles['Id'].apply(lambda x: int(x))\n",
    "titles = titles.sort_values(by=['Id'])"
   ]
  },
  {
   "cell_type": "code",
   "execution_count": 169,
   "metadata": {},
   "outputs": [],
   "source": [
    "from rank_bm25 import BM25Okapi, BM25L, BM25Plus"
   ]
  },
  {
   "cell_type": "code",
   "execution_count": 170,
   "metadata": {},
   "outputs": [],
   "source": [
    "corpus = list(titles['Title'])\n",
    "tokenized_corpus = [doc.split(\" \") for doc in corpus]\n",
    "\n",
    "bm25_Okapi = BM25Okapi(tokenized_corpus)\n",
    "bm25_L = BM25L(tokenized_corpus)\n",
    "bm25_Plus = BM25Plus(tokenized_corpus)"
   ]
  },
  {
   "cell_type": "code",
   "execution_count": 171,
   "metadata": {},
   "outputs": [],
   "source": [
    "sample_df = pd.read_csv('./Data/sample.csv', sep=',')\n",
    "sample_df.columns = ['query_id', 'url_id']\n",
    "\n",
    "marks_df = pd.read_csv('./Data/train.marks.tsv', sep='\\t', header=None)\n",
    "marks_df.columns = ['query_id', 'url_id', 'mark']\n",
    "marks_df = marks_df.drop(columns=['mark'])\n",
    "\n",
    "sample_df = sample_df.append(marks_df)"
   ]
  },
  {
   "cell_type": "code",
   "execution_count": 172,
   "metadata": {},
   "outputs": [],
   "source": [
    "sample_df['BM25Okapi'] = None\n",
    "sample_df['BM25L'] = None\n",
    "sample_df['BM25Plus'] = None"
   ]
  },
  {
   "cell_type": "code",
   "execution_count": 173,
   "metadata": {},
   "outputs": [
    {
     "name": "stderr",
     "output_type": "stream",
     "text": [
      "/home/andrey/anaconda3/envs/matcher/lib/python3.7/site-packages/ipykernel_launcher.py:1: TqdmDeprecationWarning: This function will be removed in tqdm==5.0.0\n",
      "Please use `tqdm.notebook.tqdm` instead of `tqdm.tqdm_notebook`\n",
      "  \"\"\"Entry point for launching an IPython kernel.\n"
     ]
    },
    {
     "data": {
      "application/vnd.jupyter.widget-view+json": {
       "model_id": "6ff401799ff74b8090f934e8eb111902",
       "version_major": 2,
       "version_minor": 0
      },
      "text/plain": [
       "  0%|          | 0/6311 [00:00<?, ?it/s]"
      ]
     },
     "metadata": {},
     "output_type": "display_data"
    }
   ],
   "source": [
    "for query in tqdm.tqdm_notebook(set(sample_df['query_id'])):\n",
    "    docs_id = list(sample_df[sample_df['query_id'] == query]['url_id'])\n",
    "    q = queries[queries['Id'] == query]['Query'][query]\n",
    "    tokenized_query = q.split(\" \")\n",
    "\n",
    "    bm25_1 = bm25_Okapi.get_batch_scores(tokenized_query, docs_id)\n",
    "    bm25_2 = bm25_L.get_batch_scores(tokenized_query, docs_id)\n",
    "    bm25_3 = bm25_Plus.get_batch_scores(tokenized_query, docs_id)\n",
    "    \n",
    "    sample_df.loc[sample_df['query_id'] == query, 'BM25Okapi'] = bm25_1\n",
    "    sample_df.loc[sample_df['query_id'] == query, 'BM25L'] = bm25_2\n",
    "    sample_df.loc[sample_df['query_id'] == query, 'BM25Plus'] = bm25_3"
   ]
  },
  {
   "cell_type": "code",
   "execution_count": 174,
   "metadata": {},
   "outputs": [],
   "source": [
    "sample_df.to_csv('./BM25/BM25_Spelled_Stemmed.tsv',sep='\\t',index=False)"
   ]
  },
  {
   "cell_type": "markdown",
   "metadata": {},
   "source": [
    "### TF-IDF"
   ]
  },
  {
   "cell_type": "code",
   "execution_count": 5,
   "metadata": {},
   "outputs": [],
   "source": [
    "from sklearn.feature_extraction.text import TfidfVectorizer, CountVectorizer\n",
    "import sklearn.metrics.pairwise"
   ]
  },
  {
   "cell_type": "code",
   "execution_count": 12,
   "metadata": {},
   "outputs": [],
   "source": [
    "# (Прогнать два раза - для speller и для stemmer)\n",
    "# titles = pd.read_csv('./titles_speller_stemmer.tsv', sep='\\t', header=None)\n",
    "# titles.columns=['Id', 'Title']\n",
    "\n",
    "# queries = pd.read_csv('./query_speller_stemmer.tsv', sep='\\t', header=None)\n",
    "# queries.columns = ['Id', 'Query']\n",
    "# queries['Id'] = queries['Id'].apply(lambda x: int(x))\n",
    "\n",
    "# titles['Title'] = titles['Title'].astype('str').apply(lambda x: x.strip())\n",
    "# titles['Id'] = titles['Id'].apply(lambda x: int(x))\n",
    "# titles = titles.sort_values(by=['Id'])\n",
    "\n",
    "titles = pd.read_csv('./titles_speller.tsv', sep='\\t', header=None)\n",
    "titles.columns=['Id', 'Title']\n",
    "\n",
    "queries = pd.read_csv('./query_speller.tsv', sep='\\t', header=None)\n",
    "queries.columns = ['Id', 'Query']\n",
    "queries['Id'] = queries['Id'].apply(lambda x: int(x))\n",
    "\n",
    "titles['Title'] = titles['Title'].astype('str').apply(lambda x: x.strip())\n",
    "titles['Id'] = titles['Id'].apply(lambda x: int(x))\n",
    "titles = titles.sort_values(by=['Id'])"
   ]
  },
  {
   "cell_type": "code",
   "execution_count": 13,
   "metadata": {},
   "outputs": [],
   "source": [
    "sample_df = pd.read_csv('./Data/sample.csv', sep=',')\n",
    "sample_df.columns = ['query_id', 'url_id']\n",
    "\n",
    "marks_df = pd.read_csv('./Data/train.marks.tsv', sep='\\t', header=None)\n",
    "marks_df.columns = ['query_id', 'url_id', 'mark']\n",
    "marks_df = marks_df.drop(columns=['mark'])\n",
    "\n",
    "sample_df = sample_df.append(marks_df)\n",
    "\n",
    "sample_df['TF_IDF'] = None\n",
    "sample_df['Counter'] = None"
   ]
  },
  {
   "cell_type": "code",
   "execution_count": 14,
   "metadata": {},
   "outputs": [],
   "source": [
    "corpus = titles['Title']"
   ]
  },
  {
   "cell_type": "code",
   "execution_count": 15,
   "metadata": {},
   "outputs": [
    {
     "name": "stdout",
     "output_type": "stream",
     "text": [
      "(582167, 6046197)\n"
     ]
    }
   ],
   "source": [
    "vectorizer_tf = TfidfVectorizer(ngram_range=(1, 4))\n",
    "X_tfidf = vectorizer_tf.fit_transform(corpus)\n",
    "\n",
    "vectorizer_count = CountVectorizer(ngram_range=(1, 4))\n",
    "X_count = vectorizer_count.fit_transform(corpus)\n",
    "\n",
    "print(X_count.shape)"
   ]
  },
  {
   "cell_type": "code",
   "execution_count": 16,
   "metadata": {},
   "outputs": [
    {
     "name": "stderr",
     "output_type": "stream",
     "text": [
      "/home/andrey/anaconda3/envs/matcher/lib/python3.7/site-packages/ipykernel_launcher.py:1: TqdmDeprecationWarning: This function will be removed in tqdm==5.0.0\n",
      "Please use `tqdm.notebook.tqdm` instead of `tqdm.tqdm_notebook`\n",
      "  \"\"\"Entry point for launching an IPython kernel.\n"
     ]
    },
    {
     "data": {
      "application/vnd.jupyter.widget-view+json": {
       "model_id": "669cd287f1f64a50ab8e2d8d55dbac95",
       "version_major": 2,
       "version_minor": 0
      },
      "text/plain": [
       "  0%|          | 0/6311 [00:00<?, ?it/s]"
      ]
     },
     "metadata": {},
     "output_type": "display_data"
    }
   ],
   "source": [
    "for query in tqdm.tqdm_notebook(set(sample_df['query_id'])):\n",
    "    docs_id = list(sample_df[sample_df['query_id'] == query]['url_id'])\n",
    "    q = queries[queries['Id'] == query]['Query'][query]\n",
    "\n",
    "    q_vec_idf = vectorizer_tf.transform([q])\n",
    "    q_vec_count = vectorizer_count.transform([q])\n",
    "    \n",
    "    tf_idf = sklearn.metrics.pairwise.cosine_similarity(q_vec_idf, X_tfidf[docs_id])[0]\n",
    "    count = sklearn.metrics.pairwise.cosine_similarity(q_vec_count, X_count[docs_id])[0]\n",
    "    \n",
    "    sample_df.loc[sample_df['query_id'] == query, 'TF_IDF'] = tf_idf\n",
    "    sample_df.loc[sample_df['query_id'] == query, 'Counter'] = count"
   ]
  },
  {
   "cell_type": "code",
   "execution_count": 17,
   "metadata": {},
   "outputs": [],
   "source": [
    "sample_df.to_csv('./TFIDF/TF_IDF_Spelled.tsv',sep='\\t',index=False)\n",
    "#sample_df.to_csv('./TFIDF/TF_IDF_Spelled_Stemmed.tsv',sep='\\t',index=False)"
   ]
  }
 ],
 "metadata": {
  "kernelspec": {
   "display_name": "Python 3",
   "language": "python",
   "name": "python3"
  },
  "language_info": {
   "codemirror_mode": {
    "name": "ipython",
    "version": 3
   },
   "file_extension": ".py",
   "mimetype": "text/x-python",
   "name": "python",
   "nbconvert_exporter": "python",
   "pygments_lexer": "ipython3",
   "version": "3.7.4"
  }
 },
 "nbformat": 4,
 "nbformat_minor": 5
}
