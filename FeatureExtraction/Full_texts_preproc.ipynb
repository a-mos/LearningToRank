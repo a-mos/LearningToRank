{
 "cells": [
  {
   "cell_type": "code",
   "execution_count": 1,
   "metadata": {},
   "outputs": [],
   "source": [
    "from joblib import Parallel, delayed\n",
    "from pyaspeller import YandexSpeller\n",
    "from pymystem3 import Mystem\n",
    "import os\n",
    "import pandas as pd\n",
    "import dask.dataframe as dd\n",
    "from tqdm import tqdm\n",
    "speller = YandexSpeller()\n",
    "mystem = Mystem(grammar_info=False)"
   ]
  },
  {
   "cell_type": "markdown",
   "metadata": {},
   "source": [
    "### Body"
   ]
  },
  {
   "cell_type": "code",
   "execution_count": 2,
   "metadata": {},
   "outputs": [],
   "source": [
    "BODY_DIR = './DOCS_TEXTS'\n",
    "\n",
    "def proc(line):\n",
    "    t = line[:-1].strip().lower().replace(u'ё', u'е').split('\\t')\n",
    "    doc_id = t[0]\n",
    "    valid_ids = set(map(lambda x: x.split('.')[0], os.listdir('./DOCS_TEXTS/')))\n",
    "    if doc_id not in valid_ids:\n",
    "        if len(t) > 2:\n",
    "            # Not title but text\n",
    "            title = t[2][:10000]\n",
    "            fixed = speller.spelled(title)\n",
    "            spell_res = fixed + '\\n'\n",
    "            lemmas = mystem.lemmatize(fixed)\n",
    "            stemmed = ''.join(lemmas)\n",
    "            title_res = stemmed + '\\n'\n",
    "            with open(os.path.join(BODY_DIR, doc_id + '.txt'), 'w') as save:\n",
    "                save.write(spell_res)\n",
    "                save.write(title_res)\n",
    "        elif len(t) > 1:\n",
    "            title = t[1]\n",
    "            fixed = speller.spelled(title)\n",
    "            spell_res = fixed + '\\n'\n",
    "            lemmas = mystem.lemmatize(fixed)\n",
    "            stemmed = ''.join(lemmas)\n",
    "            title_res = stemmed + '\\n'\n",
    "            with open(os.path.join(BODY_DIR, doc_id + '.txt'), 'w') as save:\n",
    "                save.write(spell_res)\n",
    "                save.write(title_res)\n",
    "        else:\n",
    "            with open(os.path.join(BODY_DIR, doc_id + '.txt'), 'w') as save:\n",
    "                save.write('')\n",
    "                save.write('')"
   ]
  },
  {
   "cell_type": "code",
   "execution_count": 21,
   "metadata": {},
   "outputs": [],
   "source": [
    "valid_ids = set(map(lambda x: x.split('.')[0], os.listdir('./DOCS_TEXTS/')))"
   ]
  },
  {
   "cell_type": "code",
   "execution_count": 22,
   "metadata": {},
   "outputs": [
    {
     "name": "stderr",
     "output_type": "stream",
     "text": [
      "100%|██████████| 582167/582167 [08:08<00:00, 1190.78it/s] \n"
     ]
    }
   ],
   "source": [
    "with open(docs_filename, 'r') as docs_file:\n",
    "    for line in tqdm(docs_file, total=docs_num):\n",
    "        t = line[:-1].strip().lower().replace(u'ё', u'е').split('\\t')\n",
    "        doc_id = t[0]\n",
    "        if doc_id not in valid_ids:\n",
    "            proc(line)"
   ]
  }
 ],
 "metadata": {
  "kernelspec": {
   "display_name": "Python 3",
   "language": "python",
   "name": "python3"
  },
  "language_info": {
   "codemirror_mode": {
    "name": "ipython",
    "version": 3
   },
   "file_extension": ".py",
   "mimetype": "text/x-python",
   "name": "python",
   "nbconvert_exporter": "python",
   "pygments_lexer": "ipython3",
   "version": "3.7.4"
  }
 },
 "nbformat": 4,
 "nbformat_minor": 5
}
