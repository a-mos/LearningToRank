{
 "cells": [
  {
   "cell_type": "code",
   "execution_count": 1,
   "metadata": {},
   "outputs": [],
   "source": [
    "import os\n",
    "import pandas as pd\n",
    "from tqdm import tqdm\n",
    "from fasttext import FastText\n",
    "from sklearn.metrics.pairwise import cosine_similarity"
   ]
  },
  {
   "cell_type": "code",
   "execution_count": 2,
   "metadata": {},
   "outputs": [],
   "source": [
    "# Запустить, расскомментировать, запустить ещё раз (с speller и без)"
   ]
  },
  {
   "cell_type": "code",
   "execution_count": 3,
   "metadata": {},
   "outputs": [],
   "source": [
    "titles = pd.read_csv('./titles_speller.tsv', sep='\\t', header=None)\n",
    "titles.columns=['Id', 'Title']\n",
    "\n",
    "# titles = pd.read_csv('./titles_speller.tsv', sep='\\t', header=None)\n",
    "# titles.columns=['Id', 'Title']"
   ]
  },
  {
   "cell_type": "code",
   "execution_count": 4,
   "metadata": {},
   "outputs": [
    {
     "data": {
      "text/html": [
       "<div>\n",
       "<style scoped>\n",
       "    .dataframe tbody tr th:only-of-type {\n",
       "        vertical-align: middle;\n",
       "    }\n",
       "\n",
       "    .dataframe tbody tr th {\n",
       "        vertical-align: top;\n",
       "    }\n",
       "\n",
       "    .dataframe thead th {\n",
       "        text-align: right;\n",
       "    }\n",
       "</style>\n",
       "<table border=\"1\" class=\"dataframe\">\n",
       "  <thead>\n",
       "    <tr style=\"text-align: right;\">\n",
       "      <th></th>\n",
       "      <th>Id</th>\n",
       "      <th>Title</th>\n",
       "    </tr>\n",
       "  </thead>\n",
       "  <tbody>\n",
       "    <tr>\n",
       "      <th>0</th>\n",
       "      <td>334761</td>\n",
       "      <td>ответы mail ru кто родился 4 июля\\n</td>\n",
       "    </tr>\n",
       "    <tr>\n",
       "      <th>1</th>\n",
       "      <td>56349</td>\n",
       "      <td>наращивание ногтей акрилом описание достоинств...</td>\n",
       "    </tr>\n",
       "    <tr>\n",
       "      <th>2</th>\n",
       "      <td>551990</td>\n",
       "      <td>как узнать есть ли что то в собственности zaza...</td>\n",
       "    </tr>\n",
       "    <tr>\n",
       "      <th>3</th>\n",
       "      <td>224905</td>\n",
       "      <td>relp криминалистическое исследование речевого ...</td>\n",
       "    </tr>\n",
       "    <tr>\n",
       "      <th>4</th>\n",
       "      <td>389288</td>\n",
       "      <td>николай козлов синтон психология тренинги розе...</td>\n",
       "    </tr>\n",
       "    <tr>\n",
       "      <th>...</th>\n",
       "      <td>...</td>\n",
       "      <td>...</td>\n",
       "    </tr>\n",
       "    <tr>\n",
       "      <th>582162</th>\n",
       "      <td>458053</td>\n",
       "      <td>голод сергей львович москвин голод книга подго...</td>\n",
       "    </tr>\n",
       "    <tr>\n",
       "      <th>582163</th>\n",
       "      <td>474067</td>\n",
       "      <td>как сделать фотографию снимок с экрана монитор...</td>\n",
       "    </tr>\n",
       "    <tr>\n",
       "      <th>582164</th>\n",
       "      <td>179069</td>\n",
       "      <td>селективная парфюмерия нишевая парфюмерия стат...</td>\n",
       "    </tr>\n",
       "    <tr>\n",
       "      <th>582165</th>\n",
       "      <td>539701</td>\n",
       "      <td>10 установленных плагинов wordpress в блоге но...</td>\n",
       "    </tr>\n",
       "    <tr>\n",
       "      <th>582166</th>\n",
       "      <td>480577</td>\n",
       "      <td>сто великих мифов и легенд\\n</td>\n",
       "    </tr>\n",
       "  </tbody>\n",
       "</table>\n",
       "<p>582167 rows × 2 columns</p>\n",
       "</div>"
      ],
      "text/plain": [
       "            Id                                              Title\n",
       "0       334761                ответы mail ru кто родился 4 июля\\n\n",
       "1        56349  наращивание ногтей акрилом описание достоинств...\n",
       "2       551990  как узнать есть ли что то в собственности zaza...\n",
       "3       224905  relp криминалистическое исследование речевого ...\n",
       "4       389288  николай козлов синтон психология тренинги розе...\n",
       "...        ...                                                ...\n",
       "582162  458053  голод сергей львович москвин голод книга подго...\n",
       "582163  474067  как сделать фотографию снимок с экрана монитор...\n",
       "582164  179069  селективная парфюмерия нишевая парфюмерия стат...\n",
       "582165  539701  10 установленных плагинов wordpress в блоге но...\n",
       "582166  480577                       сто великих мифов и легенд\\n\n",
       "\n",
       "[582167 rows x 2 columns]"
      ]
     },
     "execution_count": 4,
     "metadata": {},
     "output_type": "execute_result"
    }
   ],
   "source": [
    "titles"
   ]
  },
  {
   "cell_type": "code",
   "execution_count": 5,
   "metadata": {},
   "outputs": [],
   "source": [
    "queries = pd.read_csv('./query_speller.tsv', sep='\\t', header=None)\n",
    "queries.columns = ['Id', 'Query']\n",
    "\n",
    "# queries = pd.read_csv('./query_speller.tsv', sep='\\t', header=None)\n",
    "# queries.columns = ['Id', 'Query']"
   ]
  },
  {
   "cell_type": "code",
   "execution_count": 6,
   "metadata": {},
   "outputs": [
    {
     "data": {
      "text/html": [
       "<div>\n",
       "<style scoped>\n",
       "    .dataframe tbody tr th:only-of-type {\n",
       "        vertical-align: middle;\n",
       "    }\n",
       "\n",
       "    .dataframe tbody tr th {\n",
       "        vertical-align: top;\n",
       "    }\n",
       "\n",
       "    .dataframe thead th {\n",
       "        text-align: right;\n",
       "    }\n",
       "</style>\n",
       "<table border=\"1\" class=\"dataframe\">\n",
       "  <thead>\n",
       "    <tr style=\"text-align: right;\">\n",
       "      <th></th>\n",
       "      <th>Id</th>\n",
       "      <th>Query</th>\n",
       "    </tr>\n",
       "  </thead>\n",
       "  <tbody>\n",
       "    <tr>\n",
       "      <th>0</th>\n",
       "      <td>0</td>\n",
       "      <td>13 причин почему</td>\n",
       "    </tr>\n",
       "    <tr>\n",
       "      <th>1</th>\n",
       "      <td>1</td>\n",
       "      <td>1 положительный и 1 отрицательный могут ли</td>\n",
       "    </tr>\n",
       "    <tr>\n",
       "      <th>2</th>\n",
       "      <td>2</td>\n",
       "      <td>2016 действует ли зао рождественская мануфактура</td>\n",
       "    </tr>\n",
       "    <tr>\n",
       "      <th>3</th>\n",
       "      <td>3</td>\n",
       "      <td>1 месяц после операции на кишечнике диета что ...</td>\n",
       "    </tr>\n",
       "    <tr>\n",
       "      <th>4</th>\n",
       "      <td>4</td>\n",
       "      <td>2 правды 1 ложь что можно придумать</td>\n",
       "    </tr>\n",
       "    <tr>\n",
       "      <th>...</th>\n",
       "      <td>...</td>\n",
       "      <td>...</td>\n",
       "    </tr>\n",
       "    <tr>\n",
       "      <th>6306</th>\n",
       "      <td>6306</td>\n",
       "      <td>является ли тойота харриер внедорожником</td>\n",
       "    </tr>\n",
       "    <tr>\n",
       "      <th>6307</th>\n",
       "      <td>6307</td>\n",
       "      <td>як можно очистить крейду</td>\n",
       "    </tr>\n",
       "    <tr>\n",
       "      <th>6308</th>\n",
       "      <td>6308</td>\n",
       "      <td>являются ли реактивы медицинскими изделиями</td>\n",
       "    </tr>\n",
       "    <tr>\n",
       "      <th>6309</th>\n",
       "      <td>6309</td>\n",
       "      <td>являются ли словообразовательными парами слова...</td>\n",
       "    </tr>\n",
       "    <tr>\n",
       "      <th>6310</th>\n",
       "      <td>6310</td>\n",
       "      <td>является ли ооо субъектом малого предпринимате...</td>\n",
       "    </tr>\n",
       "  </tbody>\n",
       "</table>\n",
       "<p>6311 rows × 2 columns</p>\n",
       "</div>"
      ],
      "text/plain": [
       "        Id                                              Query\n",
       "0        0                                   13 причин почему\n",
       "1        1         1 положительный и 1 отрицательный могут ли\n",
       "2        2   2016 действует ли зао рождественская мануфактура\n",
       "3        3  1 месяц после операции на кишечнике диета что ...\n",
       "4        4                2 правды 1 ложь что можно придумать\n",
       "...    ...                                                ...\n",
       "6306  6306           является ли тойота харриер внедорожником\n",
       "6307  6307                           як можно очистить крейду\n",
       "6308  6308        являются ли реактивы медицинскими изделиями\n",
       "6309  6309  являются ли словообразовательными парами слова...\n",
       "6310  6310  является ли ооо субъектом малого предпринимате...\n",
       "\n",
       "[6311 rows x 2 columns]"
      ]
     },
     "execution_count": 6,
     "metadata": {},
     "output_type": "execute_result"
    }
   ],
   "source": [
    "queries"
   ]
  },
  {
   "cell_type": "code",
   "execution_count": 7,
   "metadata": {},
   "outputs": [],
   "source": [
    "queries['Id'] = queries['Id'].apply(lambda x: int(x))"
   ]
  },
  {
   "cell_type": "code",
   "execution_count": 8,
   "metadata": {},
   "outputs": [],
   "source": [
    "titles['Title'] = titles['Title'].astype('str').apply(lambda x: x.strip())\n",
    "titles['Id'] = titles['Id'].apply(lambda x: int(x))\n",
    "titles = titles.sort_values(by=['Id'])"
   ]
  },
  {
   "cell_type": "code",
   "execution_count": 9,
   "metadata": {},
   "outputs": [],
   "source": [
    "sample_df = pd.read_csv('./Data/sample.csv', sep=',')\n",
    "sample_df.columns = ['query_id', 'url_id']\n",
    "\n",
    "marks_df = pd.read_csv('./Data/train.marks.tsv', sep='\\t', header=None)\n",
    "marks_df.columns = ['query_id', 'url_id', 'mark']\n",
    "marks_df = marks_df.drop(columns=['mark'])\n",
    "\n",
    "sample_df = sample_df.append(marks_df)\n",
    "\n",
    "sample_df['Fasttext'] = None\n",
    "sample_df['Fasttext_DP'] = None"
   ]
  },
  {
   "cell_type": "code",
   "execution_count": 10,
   "metadata": {},
   "outputs": [],
   "source": [
    "corpus = titles['Title']"
   ]
  },
  {
   "cell_type": "code",
   "execution_count": 11,
   "metadata": {},
   "outputs": [
    {
     "name": "stderr",
     "output_type": "stream",
     "text": [
      "Warning : `load_model` does not return WordVectorModel or SupervisedModel any more, but a `FastText` object which is very similar.\n",
      "Warning : `load_model` does not return WordVectorModel or SupervisedModel any more, but a `FastText` object which is very similar.\n"
     ]
    }
   ],
   "source": [
    "model_base = FastText.load_model('cc.ru.300.bin')\n",
    "model_DP = FastText.load_model('ft_native_300_ru_wiki_lenta_lower_case.bin')"
   ]
  },
  {
   "cell_type": "code",
   "execution_count": 12,
   "metadata": {},
   "outputs": [],
   "source": [
    "all_q = list(set(sample_df['query_id']))"
   ]
  },
  {
   "cell_type": "code",
   "execution_count": 13,
   "metadata": {},
   "outputs": [
    {
     "name": "stderr",
     "output_type": "stream",
     "text": [
      "100%|██████████| 6311/6311 [04:57<00:00, 21.23it/s]\n"
     ]
    }
   ],
   "source": [
    "for query in tqdm(all_q):\n",
    "    docs_id = list(sample_df[sample_df['query_id'] == query]['url_id'])\n",
    "    \n",
    "    q = queries[queries['Id'] == query]['Query'][query]\n",
    "\n",
    "    q_vec_base = model_base.get_sentence_vector(q)\n",
    "    q_vec_DP = model_DP.get_sentence_vector(q)\n",
    "    \n",
    "    docs_base = []\n",
    "    docs_DP = []\n",
    "    for doc in docs_id:      \n",
    "        docs_base.append(model_base.get_sentence_vector(corpus[doc]))\n",
    "        docs_DP.append(model_DP.get_sentence_vector(corpus[doc]))\n",
    "        \n",
    "    fasttext = cosine_similarity([q_vec_base], docs_base)[0]\n",
    "    fasttext_DP = cosine_similarity([q_vec_DP], docs_DP)[0]\n",
    "\n",
    "    sample_df.loc[sample_df['query_id'] == query, 'Fasttext'] = fasttext\n",
    "    sample_df.loc[sample_df['query_id'] == query, 'Fasttext_DP'] = fasttext_DP"
   ]
  },
  {
   "cell_type": "code",
   "execution_count": 14,
   "metadata": {},
   "outputs": [],
   "source": [
    "sample_df.to_csv('Fasttext/FT_Spelled.tsv',sep='\\t',index=False)"
   ]
  },
  {
   "cell_type": "code",
   "execution_count": 14,
   "metadata": {},
   "outputs": [],
   "source": [
    "#sample_df.to_csv('Fasttext/FT_Spelled_Stemmed.tsv',sep='\\t',index=False)"
   ]
  }
 ],
 "metadata": {
  "kernelspec": {
   "display_name": "Python 3",
   "language": "python",
   "name": "python3"
  },
  "language_info": {
   "codemirror_mode": {
    "name": "ipython",
    "version": 3
   },
   "file_extension": ".py",
   "mimetype": "text/x-python",
   "name": "python",
   "nbconvert_exporter": "python",
   "pygments_lexer": "ipython3",
   "version": "3.7.4"
  }
 },
 "nbformat": 4,
 "nbformat_minor": 5
}
